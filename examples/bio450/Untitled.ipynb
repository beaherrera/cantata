{
 "cells": [
  {
   "cell_type": "code",
   "execution_count": 31,
   "id": "87bd5771-08e4-425b-b193-d3738a6c9af9",
   "metadata": {},
   "outputs": [],
   "source": [
    "from sympy import Function, dsolve, Derivative, checkodesol, Symbol, Q, simplify\n",
    "from sympy.assumptions import global_assumptions\n",
    "from sympy.abc import t"
   ]
  },
  {
   "cell_type": "code",
   "execution_count": 32,
   "id": "638296cc-a26d-400a-be01-fadfd1329ee4",
   "metadata": {},
   "outputs": [],
   "source": [
    "U = Function('U')\n",
    "E = Symbol('E')\n",
    "C = Symbol('C')\n",
    "t0 = Symbol('t0')\n",
    "U0 = Symbol('U0')\n",
    "\n",
    "global_assumptions.add(Q.real(E))\n",
    "global_assumptions.add(Q.real(C))\n",
    "global_assumptions.add(Q.positive(C))"
   ]
  },
  {
   "cell_type": "code",
   "execution_count": 34,
   "id": "77c3aa4a-4528-4899-bf9e-69c3fc05c6c3",
   "metadata": {},
   "outputs": [
    {
     "data": {
      "text/latex": [
       "$\\displaystyle U{\\left(t \\right)} = E + \\left(- E e^{\\frac{t_{0}}{C}} + U_{0} e^{\\frac{t_{0}}{C}}\\right) e^{- \\frac{t}{C}}$"
      ],
      "text/plain": [
       "Eq(U(t), E + (-E*exp(t0/C) + U0*exp(t0/C))*exp(-t/C))"
      ]
     },
     "execution_count": 34,
     "metadata": {},
     "output_type": "execute_result"
    }
   ],
   "source": [
    "res = dsolve(Derivative(U(t), t) + (U(t) - E)/C, U(t), x0=t0, ics={U(t0): U0})\n",
    "res"
   ]
  },
  {
   "cell_type": "code",
   "execution_count": 33,
   "id": "c2082e4d-fd61-4dc2-891a-eb3d0f8b61f9",
   "metadata": {},
   "outputs": [
    {
     "data": {
      "text/latex": [
       "$\\displaystyle U{\\left(t \\right)} = \\left(E e^{\\frac{t}{C}} - E e^{\\frac{t_{0}}{C}} + U_{0} e^{\\frac{t_{0}}{C}}\\right) e^{- \\frac{t}{C}}$"
      ],
      "text/plain": [
       "Eq(U(t), (E*exp(t/C) - E*exp(t0/C) + U0*exp(t0/C))*exp(-t/C))"
      ]
     },
     "execution_count": 33,
     "metadata": {},
     "output_type": "execute_result"
    }
   ],
   "source": [
    "simplify(res)"
   ]
  },
  {
   "cell_type": "code",
   "execution_count": null,
   "id": "09952ed2-0a78-42cb-80c4-11cb5f8e09df",
   "metadata": {},
   "outputs": [],
   "source": []
  }
 ],
 "metadata": {
  "kernelspec": {
   "display_name": "Python 3 (ipykernel)",
   "language": "python",
   "name": "python3"
  },
  "language_info": {
   "codemirror_mode": {
    "name": "ipython",
    "version": 3
   },
   "file_extension": ".py",
   "mimetype": "text/x-python",
   "name": "python",
   "nbconvert_exporter": "python",
   "pygments_lexer": "ipython3",
   "version": "3.12.3"
  }
 },
 "nbformat": 4,
 "nbformat_minor": 5
}
